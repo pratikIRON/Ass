{
 "cells": [
  {
   "cell_type": "markdown",
   "id": "86787367",
   "metadata": {},
   "source": [
    "# Write a Python program to square the elements of a list using map() function.\n",
    "\n"
   ]
  },
  {
   "cell_type": "code",
   "execution_count": 1,
   "id": "19e2534a",
   "metadata": {},
   "outputs": [
    {
     "data": {
      "text/plain": [
       "[1, 4, 16, 25, 49, 64]"
      ]
     },
     "execution_count": 1,
     "metadata": {},
     "output_type": "execute_result"
    }
   ],
   "source": [
    "def square (num):\n",
    "    return num**2\n",
    "l = [1,2,4,5,7,8]\n",
    "list(map (square, l))"
   ]
  },
  {
   "cell_type": "code",
   "execution_count": null,
   "id": "03d22781",
   "metadata": {},
   "outputs": [],
   "source": []
  }
 ],
 "metadata": {
  "kernelspec": {
   "display_name": "Python 3",
   "language": "python",
   "name": "python3"
  },
  "language_info": {
   "codemirror_mode": {
    "name": "ipython",
    "version": 3
   },
   "file_extension": ".py",
   "mimetype": "text/x-python",
   "name": "python",
   "nbconvert_exporter": "python",
   "pygments_lexer": "ipython3",
   "version": "3.8.8"
  }
 },
 "nbformat": 4,
 "nbformat_minor": 5
}
